{
  "nbformat": 4,
  "nbformat_minor": 0,
  "metadata": {
    "colab": {
      "name": "Indian Foreign Exchange Rates.ipynb",
      "provenance": [],
      "collapsed_sections": [],
      "toc_visible": true
    },
    "kernelspec": {
      "name": "python3",
      "display_name": "Python 3"
    }
  },
  "cells": [
    {
      "cell_type": "markdown",
      "metadata": {
        "id": "7Xhk0BWf1H2n",
        "colab_type": "text"
      },
      "source": [
        "## INDIAN FOREIGN EXCHANGE RATES \n",
        "PRANAV SUNDARESAN BABU<BR>\n",
        "221710309048<BR>\n",
        "CSE"
      ]
    },
    {
      "cell_type": "markdown",
      "metadata": {
        "id": "Jy4wJSlZG2OE",
        "colab_type": "text"
      },
      "source": [
        "## IMPORTING LIBRARIES"
      ]
    },
    {
      "cell_type": "code",
      "metadata": {
        "id": "jpaLCh4fGpLm",
        "colab_type": "code",
        "colab": {
          "base_uri": "https://localhost:8080/",
          "height": 34
        },
        "outputId": "5bceef01-1cd0-4bcd-afcf-b746e400bcd0"
      },
      "source": [
        "import pandas as pd\n",
        "import numpy as np\n",
        "import matplotlib.pyplot as plt\n",
        "%matplotlib inline\n",
        "import tensorflow as tf\n",
        "import keras\n",
        "from keras.models import Sequential\n",
        "from keras.layers import Dense,LSTM"
      ],
      "execution_count": 1,
      "outputs": [
        {
          "output_type": "stream",
          "text": [
            "Using TensorFlow backend.\n"
          ],
          "name": "stderr"
        }
      ]
    },
    {
      "cell_type": "code",
      "metadata": {
        "id": "Ztp7fkWZ8mGW",
        "colab_type": "code",
        "colab": {
          "base_uri": "https://localhost:8080/",
          "height": 34
        },
        "outputId": "7ae7d78a-99a9-46fa-90f2-003c11bb7f7e"
      },
      "source": [
        "print(pd.__version__)\n"
      ],
      "execution_count": 2,
      "outputs": [
        {
          "output_type": "stream",
          "text": [
            "1.0.5\n"
          ],
          "name": "stdout"
        }
      ]
    },
    {
      "cell_type": "code",
      "metadata": {
        "id": "NIeE1R2B9JLi",
        "colab_type": "code",
        "colab": {
          "base_uri": "https://localhost:8080/",
          "height": 34
        },
        "outputId": "8591231f-4aea-40cb-c785-7827a7d7ff20"
      },
      "source": [
        "print(np.__version__)"
      ],
      "execution_count": 3,
      "outputs": [
        {
          "output_type": "stream",
          "text": [
            "1.18.5\n"
          ],
          "name": "stdout"
        }
      ]
    },
    {
      "cell_type": "code",
      "metadata": {
        "id": "ZXEoZ9z99JEG",
        "colab_type": "code",
        "colab": {
          "base_uri": "https://localhost:8080/",
          "height": 34
        },
        "outputId": "87bb1af7-6f61-46e8-d9e2-72ce6c9776c2"
      },
      "source": [
        "print(tf.__version__)"
      ],
      "execution_count": 4,
      "outputs": [
        {
          "output_type": "stream",
          "text": [
            "2.2.0\n"
          ],
          "name": "stdout"
        }
      ]
    },
    {
      "cell_type": "code",
      "metadata": {
        "id": "yjDBWQQn9Icj",
        "colab_type": "code",
        "colab": {
          "base_uri": "https://localhost:8080/",
          "height": 34
        },
        "outputId": "f157ac8d-1f31-4573-cd6b-eb48743a4960"
      },
      "source": [
        "print(keras.__version__)"
      ],
      "execution_count": 5,
      "outputs": [
        {
          "output_type": "stream",
          "text": [
            "2.3.1\n"
          ],
          "name": "stdout"
        }
      ]
    },
    {
      "cell_type": "markdown",
      "metadata": {
        "id": "ogPA6OkFG_Qf",
        "colab_type": "text"
      },
      "source": [
        "## READING THE DATASET"
      ]
    },
    {
      "cell_type": "code",
      "metadata": {
        "id": "oAYudGcrG7Tt",
        "colab_type": "code",
        "colab": {}
      },
      "source": [
        "data=pd.read_csv('Foreign_Exchange_Rates.csv',na_values='ND')"
      ],
      "execution_count": 6,
      "outputs": []
    },
    {
      "cell_type": "markdown",
      "metadata": {
        "id": "wv1CV4MwHVzU",
        "colab_type": "text"
      },
      "source": [
        "## DATASET SHAPE"
      ]
    },
    {
      "cell_type": "code",
      "metadata": {
        "id": "HpQD-daAHCJH",
        "colab_type": "code",
        "colab": {
          "base_uri": "https://localhost:8080/",
          "height": 34
        },
        "outputId": "67d572ee-1f49-4da2-98d5-d0dd7f886503"
      },
      "source": [
        "data.shape"
      ],
      "execution_count": 7,
      "outputs": [
        {
          "output_type": "execute_result",
          "data": {
            "text/plain": [
              "(5217, 24)"
            ]
          },
          "metadata": {
            "tags": []
          },
          "execution_count": 7
        }
      ]
    },
    {
      "cell_type": "markdown",
      "metadata": {
        "id": "irToy0RpHfp-",
        "colab_type": "text"
      },
      "source": [
        "## DATASET HEAD"
      ]
    },
    {
      "cell_type": "code",
      "metadata": {
        "id": "lpCuLQEiHbRm",
        "colab_type": "code",
        "colab": {
          "base_uri": "https://localhost:8080/",
          "height": 397
        },
        "outputId": "a3d1c4bf-2fd6-4e8e-e2be-30855d60a72c"
      },
      "source": [
        "data.head()"
      ],
      "execution_count": 8,
      "outputs": [
        {
          "output_type": "execute_result",
          "data": {
            "text/html": [
              "<div>\n",
              "<style scoped>\n",
              "    .dataframe tbody tr th:only-of-type {\n",
              "        vertical-align: middle;\n",
              "    }\n",
              "\n",
              "    .dataframe tbody tr th {\n",
              "        vertical-align: top;\n",
              "    }\n",
              "\n",
              "    .dataframe thead th {\n",
              "        text-align: right;\n",
              "    }\n",
              "</style>\n",
              "<table border=\"1\" class=\"dataframe\">\n",
              "  <thead>\n",
              "    <tr style=\"text-align: right;\">\n",
              "      <th></th>\n",
              "      <th>Unnamed: 0</th>\n",
              "      <th>Time Serie</th>\n",
              "      <th>AUSTRALIA - AUSTRALIAN DOLLAR/US$</th>\n",
              "      <th>EURO AREA - EURO/US$</th>\n",
              "      <th>NEW ZEALAND - NEW ZELAND DOLLAR/US$</th>\n",
              "      <th>UNITED KINGDOM - UNITED KINGDOM POUND/US$</th>\n",
              "      <th>BRAZIL - REAL/US$</th>\n",
              "      <th>CANADA - CANADIAN DOLLAR/US$</th>\n",
              "      <th>CHINA - YUAN/US$</th>\n",
              "      <th>HONG KONG - HONG KONG DOLLAR/US$</th>\n",
              "      <th>INDIA - INDIAN RUPEE/US$</th>\n",
              "      <th>KOREA - WON/US$</th>\n",
              "      <th>MEXICO - MEXICAN PESO/US$</th>\n",
              "      <th>SOUTH AFRICA - RAND/US$</th>\n",
              "      <th>SINGAPORE - SINGAPORE DOLLAR/US$</th>\n",
              "      <th>DENMARK - DANISH KRONE/US$</th>\n",
              "      <th>JAPAN - YEN/US$</th>\n",
              "      <th>MALAYSIA - RINGGIT/US$</th>\n",
              "      <th>NORWAY - NORWEGIAN KRONE/US$</th>\n",
              "      <th>SWEDEN - KRONA/US$</th>\n",
              "      <th>SRI LANKA - SRI LANKAN RUPEE/US$</th>\n",
              "      <th>SWITZERLAND - FRANC/US$</th>\n",
              "      <th>TAIWAN - NEW TAIWAN DOLLAR/US$</th>\n",
              "      <th>THAILAND - BAHT/US$</th>\n",
              "    </tr>\n",
              "  </thead>\n",
              "  <tbody>\n",
              "    <tr>\n",
              "      <th>0</th>\n",
              "      <td>0</td>\n",
              "      <td>2000-01-03</td>\n",
              "      <td>1.5172</td>\n",
              "      <td>0.9847</td>\n",
              "      <td>1.9033</td>\n",
              "      <td>0.6146</td>\n",
              "      <td>1.8050</td>\n",
              "      <td>1.4465</td>\n",
              "      <td>8.2798</td>\n",
              "      <td>7.7765</td>\n",
              "      <td>43.55</td>\n",
              "      <td>1128.0</td>\n",
              "      <td>9.4015</td>\n",
              "      <td>6.126</td>\n",
              "      <td>1.6563</td>\n",
              "      <td>7.3290</td>\n",
              "      <td>101.70</td>\n",
              "      <td>3.8</td>\n",
              "      <td>7.964</td>\n",
              "      <td>8.4430</td>\n",
              "      <td>72.30</td>\n",
              "      <td>1.5808</td>\n",
              "      <td>31.38</td>\n",
              "      <td>36.97</td>\n",
              "    </tr>\n",
              "    <tr>\n",
              "      <th>1</th>\n",
              "      <td>1</td>\n",
              "      <td>2000-01-04</td>\n",
              "      <td>1.5239</td>\n",
              "      <td>0.9700</td>\n",
              "      <td>1.9238</td>\n",
              "      <td>0.6109</td>\n",
              "      <td>1.8405</td>\n",
              "      <td>1.4518</td>\n",
              "      <td>8.2799</td>\n",
              "      <td>7.7775</td>\n",
              "      <td>43.55</td>\n",
              "      <td>1122.5</td>\n",
              "      <td>9.4570</td>\n",
              "      <td>6.085</td>\n",
              "      <td>1.6535</td>\n",
              "      <td>7.2180</td>\n",
              "      <td>103.09</td>\n",
              "      <td>3.8</td>\n",
              "      <td>7.934</td>\n",
              "      <td>8.3600</td>\n",
              "      <td>72.65</td>\n",
              "      <td>1.5565</td>\n",
              "      <td>30.60</td>\n",
              "      <td>37.13</td>\n",
              "    </tr>\n",
              "    <tr>\n",
              "      <th>2</th>\n",
              "      <td>2</td>\n",
              "      <td>2000-01-05</td>\n",
              "      <td>1.5267</td>\n",
              "      <td>0.9676</td>\n",
              "      <td>1.9339</td>\n",
              "      <td>0.6092</td>\n",
              "      <td>1.8560</td>\n",
              "      <td>1.4518</td>\n",
              "      <td>8.2798</td>\n",
              "      <td>7.7780</td>\n",
              "      <td>43.55</td>\n",
              "      <td>1135.0</td>\n",
              "      <td>9.5350</td>\n",
              "      <td>6.070</td>\n",
              "      <td>1.6560</td>\n",
              "      <td>7.2080</td>\n",
              "      <td>103.77</td>\n",
              "      <td>3.8</td>\n",
              "      <td>7.935</td>\n",
              "      <td>8.3530</td>\n",
              "      <td>72.95</td>\n",
              "      <td>1.5526</td>\n",
              "      <td>30.80</td>\n",
              "      <td>37.10</td>\n",
              "    </tr>\n",
              "    <tr>\n",
              "      <th>3</th>\n",
              "      <td>3</td>\n",
              "      <td>2000-01-06</td>\n",
              "      <td>1.5291</td>\n",
              "      <td>0.9686</td>\n",
              "      <td>1.9436</td>\n",
              "      <td>0.6070</td>\n",
              "      <td>1.8400</td>\n",
              "      <td>1.4571</td>\n",
              "      <td>8.2797</td>\n",
              "      <td>7.7785</td>\n",
              "      <td>43.55</td>\n",
              "      <td>1146.5</td>\n",
              "      <td>9.5670</td>\n",
              "      <td>6.080</td>\n",
              "      <td>1.6655</td>\n",
              "      <td>7.2125</td>\n",
              "      <td>105.19</td>\n",
              "      <td>3.8</td>\n",
              "      <td>7.940</td>\n",
              "      <td>8.3675</td>\n",
              "      <td>72.95</td>\n",
              "      <td>1.5540</td>\n",
              "      <td>31.75</td>\n",
              "      <td>37.62</td>\n",
              "    </tr>\n",
              "    <tr>\n",
              "      <th>4</th>\n",
              "      <td>4</td>\n",
              "      <td>2000-01-07</td>\n",
              "      <td>1.5272</td>\n",
              "      <td>0.9714</td>\n",
              "      <td>1.9380</td>\n",
              "      <td>0.6104</td>\n",
              "      <td>1.8310</td>\n",
              "      <td>1.4505</td>\n",
              "      <td>8.2794</td>\n",
              "      <td>7.7783</td>\n",
              "      <td>43.55</td>\n",
              "      <td>1138.0</td>\n",
              "      <td>9.5200</td>\n",
              "      <td>6.057</td>\n",
              "      <td>1.6625</td>\n",
              "      <td>7.2285</td>\n",
              "      <td>105.17</td>\n",
              "      <td>3.8</td>\n",
              "      <td>7.966</td>\n",
              "      <td>8.4150</td>\n",
              "      <td>73.15</td>\n",
              "      <td>1.5623</td>\n",
              "      <td>30.85</td>\n",
              "      <td>37.30</td>\n",
              "    </tr>\n",
              "  </tbody>\n",
              "</table>\n",
              "</div>"
            ],
            "text/plain": [
              "   Unnamed: 0  Time Serie  ...  TAIWAN - NEW TAIWAN DOLLAR/US$  THAILAND - BAHT/US$\n",
              "0           0  2000-01-03  ...                           31.38                36.97\n",
              "1           1  2000-01-04  ...                           30.60                37.13\n",
              "2           2  2000-01-05  ...                           30.80                37.10\n",
              "3           3  2000-01-06  ...                           31.75                37.62\n",
              "4           4  2000-01-07  ...                           30.85                37.30\n",
              "\n",
              "[5 rows x 24 columns]"
            ]
          },
          "metadata": {
            "tags": []
          },
          "execution_count": 8
        }
      ]
    },
    {
      "cell_type": "markdown",
      "metadata": {
        "id": "npGNGYSaH11k",
        "colab_type": "text"
      },
      "source": [
        "## PLOTTING INDIAN EXCHANGE RATE"
      ]
    },
    {
      "cell_type": "code",
      "metadata": {
        "id": "1jJkP5EHHv9h",
        "colab_type": "code",
        "colab": {
          "base_uri": "https://localhost:8080/",
          "height": 282
        },
        "outputId": "8335cfa5-af23-4af0-ebe3-1a9abb744377"
      },
      "source": [
        "plt.plot(data['INDIA - INDIAN RUPEE/US$'])"
      ],
      "execution_count": 9,
      "outputs": [
        {
          "output_type": "execute_result",
          "data": {
            "text/plain": [
              "[<matplotlib.lines.Line2D at 0x7f2a63b73c18>]"
            ]
          },
          "metadata": {
            "tags": []
          },
          "execution_count": 9
        },
        {
          "output_type": "display_data",
          "data": {
            "image/png": "[encoded data removed]",
            "text/plain": [
              "<Figure size 432x288 with 1 Axes>"
            ]
          },
          "metadata": {
            "tags": [],
            "needs_background": "light"
          }
        }
      ]
    },
    {
      "cell_type": "markdown",
      "metadata": {
        "id": "N-MOkBwOIY2W",
        "colab_type": "text"
      },
      "source": [
        "## DATA FRAME"
      ]
    },
    {
      "cell_type": "code",
      "metadata": {
        "id": "UrBqnhJtSlJc",
        "colab_type": "code",
        "colab": {
          "base_uri": "https://localhost:8080/",
          "height": 221
        },
        "outputId": "62d8d258-be3a-40e0-8f8e-0c6875a60c9d"
      },
      "source": [
        "df=data['INDIA - INDIAN RUPEE/US$']\n",
        "df\n"
      ],
      "execution_count": 10,
      "outputs": [
        {
          "output_type": "execute_result",
          "data": {
            "text/plain": [
              "0       43.55\n",
              "1       43.55\n",
              "2       43.55\n",
              "3       43.55\n",
              "4       43.55\n",
              "        ...  \n",
              "5212      NaN\n",
              "5213    71.28\n",
              "5214    71.45\n",
              "5215    71.30\n",
              "5216    71.36\n",
              "Name: INDIA - INDIAN RUPEE/US$, Length: 5217, dtype: float64"
            ]
          },
          "metadata": {
            "tags": []
          },
          "execution_count": 10
        }
      ]
    },
    {
      "cell_type": "code",
      "metadata": {
        "id": "FrlPQ9gtkhsV",
        "colab_type": "code",
        "colab": {}
      },
      "source": [
        "df.dropna(inplace=True)"
      ],
      "execution_count": 11,
      "outputs": []
    },
    {
      "cell_type": "code",
      "metadata": {
        "id": "MeFeA8xSku90",
        "colab_type": "code",
        "colab": {
          "base_uri": "https://localhost:8080/",
          "height": 221
        },
        "outputId": "c79d90d6-b1fa-4d27-9778-8b63477c1702"
      },
      "source": [
        "df"
      ],
      "execution_count": 12,
      "outputs": [
        {
          "output_type": "execute_result",
          "data": {
            "text/plain": [
              "0       43.55\n",
              "1       43.55\n",
              "2       43.55\n",
              "3       43.55\n",
              "4       43.55\n",
              "        ...  \n",
              "5211    71.23\n",
              "5213    71.28\n",
              "5214    71.45\n",
              "5215    71.30\n",
              "5216    71.36\n",
              "Name: INDIA - INDIAN RUPEE/US$, Length: 5018, dtype: float64"
            ]
          },
          "metadata": {
            "tags": []
          },
          "execution_count": 12
        }
      ]
    },
    {
      "cell_type": "markdown",
      "metadata": {
        "id": "HeSBC4xSIzyk",
        "colab_type": "text"
      },
      "source": [
        "## PREPROCESSING DATASET"
      ]
    },
    {
      "cell_type": "code",
      "metadata": {
        "id": "AglSPpTzIevH",
        "colab_type": "code",
        "colab": {
          "base_uri": "https://localhost:8080/",
          "height": 136
        },
        "outputId": "ab4f23cc-3f4a-4ec3-97b4-50c21df33c54"
      },
      "source": [
        "df=np.array(df).reshape(-1,1)\n",
        "from sklearn.preprocessing import MinMaxScaler\n",
        "scaler=MinMaxScaler()\n",
        "df=scaler.fit_transform(df)\n",
        "print (df)"
      ],
      "execution_count": 13,
      "outputs": [
        {
          "output_type": "stream",
          "text": [
            "[[0.14142259]\n",
            " [0.14142259]\n",
            " [0.14142259]\n",
            " ...\n",
            " [0.91966527]\n",
            " [0.91548117]\n",
            " [0.91715481]]\n"
          ],
          "name": "stdout"
        }
      ]
    },
    {
      "cell_type": "markdown",
      "metadata": {
        "id": "LKOB5_YDJULp",
        "colab_type": "text"
      },
      "source": [
        "## TRAINING AND TEST SETS "
      ]
    },
    {
      "cell_type": "code",
      "metadata": {
        "id": "xv0VEt5-JNzM",
        "colab_type": "code",
        "colab": {
          "base_uri": "https://localhost:8080/",
          "height": 51
        },
        "outputId": "5af3e2ea-dc0e-40da-a1c9-734af4d6e5fd"
      },
      "source": [
        "train=df[:4800]\n",
        "test=df[4800:]\n",
        "print(train.shape)\n",
        "print(test.shape)"
      ],
      "execution_count": 14,
      "outputs": [
        {
          "output_type": "stream",
          "text": [
            "(4800, 1)\n",
            "(218, 1)\n"
          ],
          "name": "stdout"
        }
      ]
    },
    {
      "cell_type": "code",
      "metadata": {
        "id": "gmozzIwAJg6S",
        "colab_type": "code",
        "colab": {
          "base_uri": "https://localhost:8080/",
          "height": 51
        },
        "outputId": "6a931f85-1a3c-456a-f461-e5d433b8bbae"
      },
      "source": [
        "def get_data(data,look_back):\n",
        "  data_x,data_y=[],[]\n",
        "  for i in range(len(data)-look_back-1):\n",
        "    data_x.append(data[i:(i+look_back),0])\n",
        "    data_y.append(data[i+look_back,0])\n",
        "  return np.array(data_x),np.array(data_y)\n",
        "look_back=1\n",
        "x_train,y_train=get_data(train,look_back)\n",
        "\n",
        "print(x_train.shape)\n",
        "print(y_train.shape)"
      ],
      "execution_count": 15,
      "outputs": [
        {
          "output_type": "stream",
          "text": [
            "(4798, 1)\n",
            "(4798,)\n"
          ],
          "name": "stdout"
        }
      ]
    },
    {
      "cell_type": "code",
      "metadata": {
        "id": "XkNGdKBlKXBY",
        "colab_type": "code",
        "colab": {
          "base_uri": "https://localhost:8080/",
          "height": 51
        },
        "outputId": "b74f3e9b-6d3f-4a36-eb9d-b13650800a9c"
      },
      "source": [
        "x_test,y_test=get_data(test,look_back)\n",
        "print(x_test.shape)\n",
        "print(y_test.shape)"
      ],
      "execution_count": 16,
      "outputs": [
        {
          "output_type": "stream",
          "text": [
            "(216, 1)\n",
            "(216,)\n"
          ],
          "name": "stdout"
        }
      ]
    },
    {
      "cell_type": "markdown",
      "metadata": {
        "id": "ar_K-V-yKjua",
        "colab_type": "text"
      },
      "source": [
        "## PROCESSING TRAIN AND TEST SETS FOR LSTM MODELS"
      ]
    },
    {
      "cell_type": "code",
      "metadata": {
        "id": "wgtdDc3uKieb",
        "colab_type": "code",
        "colab": {
          "base_uri": "https://localhost:8080/",
          "height": 51
        },
        "outputId": "bb177545-dfd0-4327-eb0b-77979236b6b3"
      },
      "source": [
        "x_train=x_train.reshape(x_train.shape[0],x_train.shape[1],1)\n",
        "x_test=x_test.reshape(x_test.shape[0],x_test.shape[1],1)\n",
        "print(x_train.shape)\n",
        "print(x_test.shape)"
      ],
      "execution_count": 17,
      "outputs": [
        {
          "output_type": "stream",
          "text": [
            "(4798, 1, 1)\n",
            "(216, 1, 1)\n"
          ],
          "name": "stdout"
        }
      ]
    },
    {
      "cell_type": "markdown",
      "metadata": {
        "id": "J2IMFfX3LRWp",
        "colab_type": "text"
      },
      "source": [
        "## DEFINING THE LSTM MODEL"
      ]
    },
    {
      "cell_type": "code",
      "metadata": {
        "id": "_OqchEhyLL-C",
        "colab_type": "code",
        "colab": {
          "base_uri": "https://localhost:8080/",
          "height": 221
        },
        "outputId": "cff09e14-6af8-4908-e8fb-ace7fcfa98e4"
      },
      "source": [
        "n_features=x_train.shape[1]\n",
        "model=Sequential()\n",
        "model.add(LSTM(100,activation='relu',input_shape=(1,1)))\n",
        "model.add(Dense(n_features))\n",
        "\n",
        "## Model Summary\n",
        "model.summary()"
      ],
      "execution_count": 18,
      "outputs": [
        {
          "output_type": "stream",
          "text": [
            "Model: \"sequential_1\"\n",
            "_________________________________________________________________\n",
            "Layer (type)                 Output Shape              Param #   \n",
            "=================================================================\n",
            "lstm_1 (LSTM)                (None, 100)               40800     \n",
            "_________________________________________________________________\n",
            "dense_1 (Dense)              (None, 1)                 101       \n",
            "=================================================================\n",
            "Total params: 40,901\n",
            "Trainable params: 40,901\n",
            "Non-trainable params: 0\n",
            "_________________________________________________________________\n"
          ],
          "name": "stdout"
        }
      ]
    },
    {
      "cell_type": "markdown",
      "metadata": {
        "id": "jLLjsl-oM16Q",
        "colab_type": "text"
      },
      "source": [
        "## COMPILING"
      ]
    },
    {
      "cell_type": "code",
      "metadata": {
        "id": "LBKOLdiwMkVJ",
        "colab_type": "code",
        "colab": {}
      },
      "source": [
        "model.compile(optimizer='adam',loss='mse')\n"
      ],
      "execution_count": 19,
      "outputs": []
    },
    {
      "cell_type": "markdown",
      "metadata": {
        "id": "yvynSHUVNCkH",
        "colab_type": "text"
      },
      "source": [
        "## Training"
      ]
    },
    {
      "cell_type": "code",
      "metadata": {
        "id": "DxU_o_I4NBhi",
        "colab_type": "code",
        "colab": {
          "base_uri": "https://localhost:8080/",
          "height": 204
        },
        "outputId": "764c340e-6fad-4586-fd98-658ffe96a93a"
      },
      "source": [
        "model.fit(x_train,y_train, epochs = 5, batch_size=1)"
      ],
      "execution_count": 20,
      "outputs": [
        {
          "output_type": "stream",
          "text": [
            "Epoch 1/5\n",
            "4798/4798 [==============================] - 9s 2ms/step - loss: 0.0053\n",
            "Epoch 2/5\n",
            "4798/4798 [==============================] - 8s 2ms/step - loss: 9.1773e-05\n",
            "Epoch 3/5\n",
            "4798/4798 [==============================] - 8s 2ms/step - loss: 7.3456e-05\n",
            "Epoch 4/5\n",
            "4798/4798 [==============================] - 9s 2ms/step - loss: 7.0139e-05\n",
            "Epoch 5/5\n",
            "4798/4798 [==============================] - 8s 2ms/step - loss: 7.2118e-05\n"
          ],
          "name": "stdout"
        },
        {
          "output_type": "execute_result",
          "data": {
            "text/plain": [
              "<keras.callbacks.callbacks.History at 0x7f2a5c22e588>"
            ]
          },
          "metadata": {
            "tags": []
          },
          "execution_count": 20
        }
      ]
    },
    {
      "cell_type": "markdown",
      "metadata": {
        "id": "FbWj9MfAN3Gc",
        "colab_type": "text"
      },
      "source": [
        "## PREDICTING USING THE TRAINED MODEL"
      ]
    },
    {
      "cell_type": "code",
      "metadata": {
        "id": "QFVG092HNRzx",
        "colab_type": "code",
        "colab": {
          "base_uri": "https://localhost:8080/",
          "height": 272
        },
        "outputId": "ab23b163-0bf1-4c95-cd13-2b8b6cceb331"
      },
      "source": [
        "scaler.scale_\n",
        "y_pred=model.predict(x_test)\n",
        "y_pred=scaler.inverse_transform(y_pred)\n",
        "print(y_pred[:15])"
      ],
      "execution_count": 21,
      "outputs": [
        {
          "output_type": "stream",
          "text": [
            "[[71.51821 ]\n",
            " [71.35618 ]\n",
            " [71.27518 ]\n",
            " [71.02214 ]\n",
            " [71.22456 ]\n",
            " [71.35618 ]\n",
            " [71.03226 ]\n",
            " [71.103096]\n",
            " [71.11322 ]\n",
            " [70.74901 ]\n",
            " [70.21327 ]\n",
            " [70.284   ]\n",
            " [70.19307 ]\n",
            " [70.01126 ]\n",
            " [69.809326]]\n"
          ],
          "name": "stdout"
        }
      ]
    },
    {
      "cell_type": "markdown",
      "metadata": {
        "id": "KX8HbXT-Rdal",
        "colab_type": "text"
      },
      "source": [
        "## PROCESSING TEST SHAPE"
      ]
    },
    {
      "cell_type": "code",
      "metadata": {
        "id": "p_fR6LDrONzW",
        "colab_type": "code",
        "colab": {
          "base_uri": "https://localhost:8080/",
          "height": 187
        },
        "outputId": "a380079b-6fa6-4a14-851e-9b4d7b682cc8"
      },
      "source": [
        "y_test = np.array(y_test).reshape(-1,1)\n",
        "y_test = scaler.inverse_transform(y_test)\n",
        "print(y_test[:10])\n"
      ],
      "execution_count": 22,
      "outputs": [
        {
          "output_type": "stream",
          "text": [
            "[[71.15]\n",
            " [71.07]\n",
            " [70.82]\n",
            " [71.02]\n",
            " [71.15]\n",
            " [70.83]\n",
            " [70.9 ]\n",
            " [70.91]\n",
            " [70.55]\n",
            " [70.02]]\n"
          ],
          "name": "stdout"
        }
      ]
    },
    {
      "cell_type": "markdown",
      "metadata": {
        "id": "tQKXgKTsRm3D",
        "colab_type": "text"
      },
      "source": [
        "## VISUALIZING THE RESULTS"
      ]
    },
    {
      "cell_type": "code",
      "metadata": {
        "id": "orBW9EDERhby",
        "colab_type": "code",
        "colab": {
          "base_uri": "https://localhost:8080/",
          "height": 353
        },
        "outputId": "3acabb1c-cc33-4143-9289-5847c8e715a8"
      },
      "source": [
        "plt.figure(figsize=(10,5))\n",
        "plt.title('Foreign Exchange Rate of India')\n",
        "plt.plot(y_test , label = 'Actual', color = 'b')\n",
        "plt.plot(y_pred , label = 'Predicted', color = 'r')\n",
        "plt.legend()"
      ],
      "execution_count": 23,
      "outputs": [
        {
          "output_type": "execute_result",
          "data": {
            "text/plain": [
              "<matplotlib.legend.Legend at 0x7f2a52f68588>"
            ]
          },
          "metadata": {
            "tags": []
          },
          "execution_count": 23
        },
        {
          "output_type": "display_data",
          "data": {
            "image/png": "[encoded data removed]",
            "text/plain": [
              "<Figure size 720x360 with 1 Axes>"
            ]
          },
          "metadata": {
            "tags": [],
            "needs_background": "light"
          }
        }
      ]
    },
    {
      "cell_type": "markdown",
      "metadata": {
        "id": "3ivhabt1R2Cm",
        "colab_type": "text"
      },
      "source": [
        "## MEAN SQUARED ERROR"
      ]
    },
    {
      "cell_type": "code",
      "metadata": {
        "id": "evRYLagqRrIU",
        "colab_type": "code",
        "colab": {
          "base_uri": "https://localhost:8080/",
          "height": 34
        },
        "outputId": "b957805c-ac47-44af-f2c0-33379f8110f3"
      },
      "source": [
        "from sklearn.metrics import mean_squared_error\n",
        "mean_squared_error(y_test, y_pred)"
      ],
      "execution_count": 24,
      "outputs": [
        {
          "output_type": "execute_result",
          "data": {
            "text/plain": [
              "0.10532811725795937"
            ]
          },
          "metadata": {
            "tags": []
          },
          "execution_count": 24
        }
      ]
    },
    {
      "cell_type": "markdown",
      "metadata": {
        "id": "gUPy70r6PGkX",
        "colab_type": "text"
      },
      "source": [
        "## 10 original and predicted rates together"
      ]
    },
    {
      "cell_type": "code",
      "metadata": {
        "id": "kMV-4rIlR5Zn",
        "colab_type": "code",
        "colab": {
          "base_uri": "https://localhost:8080/",
          "height": 357
        },
        "outputId": "9d792aff-cbb3-4298-96e1-44ecdd0154e1"
      },
      "source": [
        "display(y_test[:10])\n",
        "display(y_pred[:10])"
      ],
      "execution_count": 25,
      "outputs": [
        {
          "output_type": "display_data",
          "data": {
            "text/plain": [
              "array([[71.15],\n",
              "       [71.07],\n",
              "       [70.82],\n",
              "       [71.02],\n",
              "       [71.15],\n",
              "       [70.83],\n",
              "       [70.9 ],\n",
              "       [70.91],\n",
              "       [70.55],\n",
              "       [70.02]])"
            ]
          },
          "metadata": {
            "tags": []
          }
        },
        {
          "output_type": "display_data",
          "data": {
            "text/plain": [
              "array([[71.51821 ],\n",
              "       [71.35618 ],\n",
              "       [71.27518 ],\n",
              "       [71.02214 ],\n",
              "       [71.22456 ],\n",
              "       [71.35618 ],\n",
              "       [71.03226 ],\n",
              "       [71.103096],\n",
              "       [71.11322 ],\n",
              "       [70.74901 ]], dtype=float32)"
            ]
          },
          "metadata": {
            "tags": []
          }
        }
      ]
    },
    {
      "cell_type": "code",
      "metadata": {
        "id": "mvq0HZkC2qsB",
        "colab_type": "code",
        "colab": {}
      },
      "source": [
        ""
      ],
      "execution_count": 25,
      "outputs": []
    }
  ]
}